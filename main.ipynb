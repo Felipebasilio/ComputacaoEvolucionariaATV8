{
 "cells": [
  {
   "cell_type": "code",
   "execution_count": 1,
   "id": "157b9b53-98dd-47a7-a25a-1862f7720535",
   "metadata": {},
   "outputs": [],
   "source": [
    "import numpy as np\n",
    "import random"
   ]
  },
  {
   "cell_type": "code",
   "execution_count": 2,
   "id": "088943df-8c06-4774-a1a6-72610a04589b",
   "metadata": {},
   "outputs": [],
   "source": [
    "# Parâmetros do PSO\n",
    "NUM_PARTICLES = 30\n",
    "NUM_ITERATIONS = 100\n",
    "W = 0.5  # Inércia\n",
    "C1 = 1.5 # Coeficiente cognitivo\n",
    "C2 = 1.5 # Coeficiente social\n",
    "\n",
    "# Limites de cada tipo de pesquisador\n",
    "LIMITS = np.array([5, 4, 3, 2])  # IC, Mestrado, Doutorado, Professor\n",
    "HOURS = np.array([160, 96, 64, 40])  # Horas disponíveis por pesquisador\n",
    "\n",
    "TARGET_HOURS = 800"
   ]
  },
  {
   "cell_type": "code",
   "execution_count": 3,
   "id": "a2ec923a-bcab-4c90-8f89-339faa9df075",
   "metadata": {},
   "outputs": [],
   "source": [
    "class Particle:\n",
    "    def __init__(self):\n",
    "        self.position = np.random.randint(1, LIMITS + 1)\n",
    "        self.velocity = np.random.randn(4) * 0.1\n",
    "        self.best_position = self.position.copy()\n",
    "        self.best_error = self.evaluate()\n",
    "\n",
    "    def evaluate(self):\n",
    "        total_hours = np.dot(self.position, HOURS)\n",
    "        return abs(total_hours - TARGET_HOURS)\n",
    "\n",
    "    def update_velocity(self, global_best_position):\n",
    "        r1, r2 = random.random(), random.random()\n",
    "        cognitive_velocity = C1 * r1 * (self.best_position - self.position)\n",
    "        social_velocity = C2 * r2 * (global_best_position - self.position)\n",
    "        self.velocity = W * self.velocity + cognitive_velocity + social_velocity\n",
    "\n",
    "    def update_position(self):\n",
    "        self.position += self.velocity.astype(int)\n",
    "        self.position = np.clip(self.position, 1, LIMITS)  # Respect the limits\n",
    "        current_error = self.evaluate()\n",
    "        if current_error < self.best_error:\n",
    "            self.best_position = self.position.copy()\n",
    "            self.best_error = current_error\n"
   ]
  },
  {
   "cell_type": "code",
   "execution_count": 4,
   "id": "99284a24-9cb9-4c09-bdf0-c43be50f8032",
   "metadata": {},
   "outputs": [],
   "source": [
    "def pso():\n",
    "    swarm = [Particle() for _ in range(NUM_PARTICLES)]\n",
    "    global_best_position = min(swarm, key=lambda p: p.best_error).best_position\n",
    "    global_best_error = min(swarm, key=lambda p: p.best_error).best_error\n",
    "\n",
    "    for _ in range(NUM_ITERATIONS):\n",
    "        for particle in swarm:\n",
    "            particle.update_velocity(global_best_position)\n",
    "            particle.update_position()\n",
    "\n",
    "            # Update global best\n",
    "            if particle.best_error < global_best_error:\n",
    "                global_best_position = particle.best_position.copy()\n",
    "                global_best_error = particle.best_error\n",
    "\n",
    "    return global_best_position, global_best_error"
   ]
  },
  {
   "cell_type": "code",
   "execution_count": 39,
   "id": "fe4c2e1f-4136-437e-8bbe-d9a3f4d4ed22",
   "metadata": {},
   "outputs": [
    {
     "name": "stdout",
     "output_type": "stream",
     "text": [
      "Best Solution: [3 1 3 1]\n",
      "Best Error (Distance to 800 hours): 8\n",
      "Total Hours: 808\n"
     ]
    }
   ],
   "source": [
    "# Execute PSO\n",
    "best_solution, best_error = pso()\n",
    "print(\"Best Solution:\", best_solution)\n",
    "print(\"Best Error (Distance to 800 hours):\", best_error)\n",
    "print(\"Total Hours:\", np.dot(best_solution, HOURS))"
   ]
  },
  {
   "cell_type": "code",
   "execution_count": 40,
   "id": "022a1775-8478-4cf7-93b6-e207d2479538",
   "metadata": {},
   "outputs": [
    {
     "name": "stdout",
     "output_type": "stream",
     "text": [
      "Best Solution: [3 1 3 1]\n",
      "Best Error (Distance to 800 hours): 8\n",
      "Total Hours: 808\n"
     ]
    }
   ],
   "source": [
    "# Execute PSO\n",
    "best_solution, best_error = pso()\n",
    "print(\"Best Solution:\", best_solution)\n",
    "print(\"Best Error (Distance to 800 hours):\", best_error)\n",
    "print(\"Total Hours:\", np.dot(best_solution, HOURS))"
   ]
  },
  {
   "cell_type": "code",
   "execution_count": 41,
   "id": "8e36b362-87fb-4d96-a1bd-0771a8d694d6",
   "metadata": {},
   "outputs": [
    {
     "name": "stdout",
     "output_type": "stream",
     "text": [
      "Best Solution: [3 1 3 1]\n",
      "Best Error (Distance to 800 hours): 8\n",
      "Total Hours: 808\n"
     ]
    }
   ],
   "source": [
    "# Execute PSO\n",
    "best_solution, best_error = pso()\n",
    "print(\"Best Solution:\", best_solution)\n",
    "print(\"Best Error (Distance to 800 hours):\", best_error)\n",
    "print(\"Total Hours:\", np.dot(best_solution, HOURS))"
   ]
  },
  {
   "cell_type": "code",
   "execution_count": 42,
   "id": "3553f9d9-1b0a-4eb6-a32f-7cd0d2d33bee",
   "metadata": {},
   "outputs": [
    {
     "name": "stdout",
     "output_type": "stream",
     "text": [
      "Best Solution: [2 4 1 1]\n",
      "Best Error (Distance to 800 hours): 8\n",
      "Total Hours: 808\n"
     ]
    }
   ],
   "source": [
    "# Execute PSO\n",
    "best_solution, best_error = pso()\n",
    "print(\"Best Solution:\", best_solution)\n",
    "print(\"Best Error (Distance to 800 hours):\", best_error)\n",
    "print(\"Total Hours:\", np.dot(best_solution, HOURS))"
   ]
  },
  {
   "cell_type": "code",
   "execution_count": 43,
   "id": "d120aa2f-73b6-4374-b544-260a03de4a3c",
   "metadata": {},
   "outputs": [
    {
     "name": "stdout",
     "output_type": "stream",
     "text": [
      "Best Solution: [3 1 2 2]\n",
      "Best Error (Distance to 800 hours): 16\n",
      "Total Hours: 784\n"
     ]
    }
   ],
   "source": [
    "# Execute PSO\n",
    "best_solution, best_error = pso()\n",
    "print(\"Best Solution:\", best_solution)\n",
    "print(\"Best Error (Distance to 800 hours):\", best_error)\n",
    "print(\"Total Hours:\", np.dot(best_solution, HOURS))"
   ]
  },
  {
   "cell_type": "code",
   "execution_count": 44,
   "id": "17e462b7-69bc-47b2-9ad0-9fe8aaaf309a",
   "metadata": {},
   "outputs": [
    {
     "name": "stdout",
     "output_type": "stream",
     "text": [
      "Best Solution: [3 1 3 1]\n",
      "Best Error (Distance to 800 hours): 8\n",
      "Total Hours: 808\n"
     ]
    }
   ],
   "source": [
    "# Execute PSO\n",
    "best_solution, best_error = pso()\n",
    "print(\"Best Solution:\", best_solution)\n",
    "print(\"Best Error (Distance to 800 hours):\", best_error)\n",
    "print(\"Total Hours:\", np.dot(best_solution, HOURS))"
   ]
  },
  {
   "cell_type": "code",
   "execution_count": 45,
   "id": "df3b8a8c-8235-4b13-895d-e413131d07fe",
   "metadata": {},
   "outputs": [
    {
     "name": "stdout",
     "output_type": "stream",
     "text": [
      "Best Solution: [3 1 3 1]\n",
      "Best Error (Distance to 800 hours): 8\n",
      "Total Hours: 808\n"
     ]
    }
   ],
   "source": [
    "# Execute PSO\n",
    "best_solution, best_error = pso()\n",
    "print(\"Best Solution:\", best_solution)\n",
    "print(\"Best Error (Distance to 800 hours):\", best_error)\n",
    "print(\"Total Hours:\", np.dot(best_solution, HOURS))"
   ]
  },
  {
   "cell_type": "code",
   "execution_count": 46,
   "id": "6672eae7-3032-4250-8107-e42ec23d8bfe",
   "metadata": {},
   "outputs": [
    {
     "name": "stdout",
     "output_type": "stream",
     "text": [
      "Best Solution: [3 2 2 1]\n",
      "Best Error (Distance to 800 hours): 40\n",
      "Total Hours: 840\n"
     ]
    }
   ],
   "source": [
    "# Execute PSO\n",
    "best_solution, best_error = pso()\n",
    "print(\"Best Solution:\", best_solution)\n",
    "print(\"Best Error (Distance to 800 hours):\", best_error)\n",
    "print(\"Total Hours:\", np.dot(best_solution, HOURS))"
   ]
  },
  {
   "cell_type": "code",
   "execution_count": 47,
   "id": "24f2d1a8-abee-4470-916f-bf9e32a835f1",
   "metadata": {},
   "outputs": [
    {
     "name": "stdout",
     "output_type": "stream",
     "text": [
      "Best Solution: [2 3 2 2]\n",
      "Best Error (Distance to 800 hours): 16\n",
      "Total Hours: 816\n"
     ]
    }
   ],
   "source": [
    "# Execute PSO\n",
    "best_solution, best_error = pso()\n",
    "print(\"Best Solution:\", best_solution)\n",
    "print(\"Best Error (Distance to 800 hours):\", best_error)\n",
    "print(\"Total Hours:\", np.dot(best_solution, HOURS))"
   ]
  },
  {
   "cell_type": "code",
   "execution_count": 48,
   "id": "ddacfb55-5dfe-4ca5-b581-03961ff0af27",
   "metadata": {},
   "outputs": [
    {
     "name": "stdout",
     "output_type": "stream",
     "text": [
      "Best Solution: [2 4 1 1]\n",
      "Best Error (Distance to 800 hours): 8\n",
      "Total Hours: 808\n"
     ]
    }
   ],
   "source": [
    "# Execute PSO\n",
    "best_solution, best_error = pso()\n",
    "print(\"Best Solution:\", best_solution)\n",
    "print(\"Best Error (Distance to 800 hours):\", best_error)\n",
    "print(\"Total Hours:\", np.dot(best_solution, HOURS))"
   ]
  },
  {
   "cell_type": "code",
   "execution_count": 49,
   "id": "1dec9fce-9145-4f7c-9968-c7e3207d38b7",
   "metadata": {},
   "outputs": [
    {
     "name": "stdout",
     "output_type": "stream",
     "text": [
      "Best Solution: [1 4 3 2]\n",
      "Best Error (Distance to 800 hours): 16\n",
      "Total Hours: 816\n"
     ]
    }
   ],
   "source": [
    "# Execute PSO\n",
    "best_solution, best_error = pso()\n",
    "print(\"Best Solution:\", best_solution)\n",
    "print(\"Best Error (Distance to 800 hours):\", best_error)\n",
    "print(\"Total Hours:\", np.dot(best_solution, HOURS))"
   ]
  },
  {
   "cell_type": "code",
   "execution_count": null,
   "id": "dd86325a-7f82-4a10-94b0-9b909d445b3e",
   "metadata": {},
   "outputs": [],
   "source": []
  }
 ],
 "metadata": {
  "kernelspec": {
   "display_name": "Python 3 (ipykernel)",
   "language": "python",
   "name": "python3"
  },
  "language_info": {
   "codemirror_mode": {
    "name": "ipython",
    "version": 3
   },
   "file_extension": ".py",
   "mimetype": "text/x-python",
   "name": "python",
   "nbconvert_exporter": "python",
   "pygments_lexer": "ipython3",
   "version": "3.11.7"
  }
 },
 "nbformat": 4,
 "nbformat_minor": 5
}
